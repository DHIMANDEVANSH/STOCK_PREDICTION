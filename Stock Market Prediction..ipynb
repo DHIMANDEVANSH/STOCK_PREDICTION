{
 "cells": [
  {
   "cell_type": "code",
   "execution_count": 1,
   "id": "c40fd70c",
   "metadata": {},
   "outputs": [],
   "source": [
    "# Importing necessary Libaries\n",
    "\n",
    "import pandas as pd\n",
    "import numpy as np\n",
    "import matplotlib.pyplot as plt\n",
    "import seaborn as sns\n",
    "import tensorflow as tf\n",
    "from tensorflow.keras.models import Sequential\n",
    "from tensorflow.keras.layers import Dense\n",
    "from tensorflow.keras.layers import LSTM"
   ]
  },
  {
   "cell_type": "code",
   "execution_count": 2,
   "id": "bd310f7b",
   "metadata": {},
   "outputs": [
    {
     "data": {
      "text/html": [
       "<div>\n",
       "<style scoped>\n",
       "    .dataframe tbody tr th:only-of-type {\n",
       "        vertical-align: middle;\n",
       "    }\n",
       "\n",
       "    .dataframe tbody tr th {\n",
       "        vertical-align: top;\n",
       "    }\n",
       "\n",
       "    .dataframe thead th {\n",
       "        text-align: right;\n",
       "    }\n",
       "</style>\n",
       "<table border=\"1\" class=\"dataframe\">\n",
       "  <thead>\n",
       "    <tr style=\"text-align: right;\">\n",
       "      <th></th>\n",
       "      <th>symbol</th>\n",
       "      <th>date</th>\n",
       "      <th>close</th>\n",
       "      <th>high</th>\n",
       "      <th>low</th>\n",
       "      <th>open</th>\n",
       "      <th>volume</th>\n",
       "      <th>adjClose</th>\n",
       "      <th>adjHigh</th>\n",
       "      <th>adjLow</th>\n",
       "      <th>adjOpen</th>\n",
       "      <th>adjVolume</th>\n",
       "      <th>divCash</th>\n",
       "      <th>splitFactor</th>\n",
       "    </tr>\n",
       "  </thead>\n",
       "  <tbody>\n",
       "    <tr>\n",
       "      <th>1252</th>\n",
       "      <td>AAPL</td>\n",
       "      <td>2023-06-15 00:00:00+00:00</td>\n",
       "      <td>186.01</td>\n",
       "      <td>186.520</td>\n",
       "      <td>183.7800</td>\n",
       "      <td>183.96</td>\n",
       "      <td>65433166</td>\n",
       "      <td>186.01</td>\n",
       "      <td>186.520</td>\n",
       "      <td>183.7800</td>\n",
       "      <td>183.96</td>\n",
       "      <td>65433166</td>\n",
       "      <td>0.0</td>\n",
       "      <td>1.0</td>\n",
       "    </tr>\n",
       "    <tr>\n",
       "      <th>1253</th>\n",
       "      <td>AAPL</td>\n",
       "      <td>2023-06-16 00:00:00+00:00</td>\n",
       "      <td>184.92</td>\n",
       "      <td>186.990</td>\n",
       "      <td>184.2700</td>\n",
       "      <td>186.73</td>\n",
       "      <td>101256225</td>\n",
       "      <td>184.92</td>\n",
       "      <td>186.990</td>\n",
       "      <td>184.2700</td>\n",
       "      <td>186.73</td>\n",
       "      <td>101256225</td>\n",
       "      <td>0.0</td>\n",
       "      <td>1.0</td>\n",
       "    </tr>\n",
       "    <tr>\n",
       "      <th>1254</th>\n",
       "      <td>AAPL</td>\n",
       "      <td>2023-06-20 00:00:00+00:00</td>\n",
       "      <td>185.01</td>\n",
       "      <td>186.100</td>\n",
       "      <td>184.4100</td>\n",
       "      <td>184.41</td>\n",
       "      <td>49799092</td>\n",
       "      <td>185.01</td>\n",
       "      <td>186.100</td>\n",
       "      <td>184.4100</td>\n",
       "      <td>184.41</td>\n",
       "      <td>49799092</td>\n",
       "      <td>0.0</td>\n",
       "      <td>1.0</td>\n",
       "    </tr>\n",
       "    <tr>\n",
       "      <th>1255</th>\n",
       "      <td>AAPL</td>\n",
       "      <td>2023-06-21 00:00:00+00:00</td>\n",
       "      <td>183.96</td>\n",
       "      <td>185.410</td>\n",
       "      <td>182.5901</td>\n",
       "      <td>184.90</td>\n",
       "      <td>49515697</td>\n",
       "      <td>183.96</td>\n",
       "      <td>185.410</td>\n",
       "      <td>182.5901</td>\n",
       "      <td>184.90</td>\n",
       "      <td>49515697</td>\n",
       "      <td>0.0</td>\n",
       "      <td>1.0</td>\n",
       "    </tr>\n",
       "    <tr>\n",
       "      <th>1256</th>\n",
       "      <td>AAPL</td>\n",
       "      <td>2023-06-22 00:00:00+00:00</td>\n",
       "      <td>187.00</td>\n",
       "      <td>187.045</td>\n",
       "      <td>183.6700</td>\n",
       "      <td>183.74</td>\n",
       "      <td>51245327</td>\n",
       "      <td>187.00</td>\n",
       "      <td>187.045</td>\n",
       "      <td>183.6700</td>\n",
       "      <td>183.74</td>\n",
       "      <td>51245327</td>\n",
       "      <td>0.0</td>\n",
       "      <td>1.0</td>\n",
       "    </tr>\n",
       "  </tbody>\n",
       "</table>\n",
       "</div>"
      ],
      "text/plain": [
       "     symbol                       date   close     high       low    open  \\\n",
       "1252   AAPL  2023-06-15 00:00:00+00:00  186.01  186.520  183.7800  183.96   \n",
       "1253   AAPL  2023-06-16 00:00:00+00:00  184.92  186.990  184.2700  186.73   \n",
       "1254   AAPL  2023-06-20 00:00:00+00:00  185.01  186.100  184.4100  184.41   \n",
       "1255   AAPL  2023-06-21 00:00:00+00:00  183.96  185.410  182.5901  184.90   \n",
       "1256   AAPL  2023-06-22 00:00:00+00:00  187.00  187.045  183.6700  183.74   \n",
       "\n",
       "         volume  adjClose  adjHigh    adjLow  adjOpen  adjVolume  divCash  \\\n",
       "1252   65433166    186.01  186.520  183.7800   183.96   65433166      0.0   \n",
       "1253  101256225    184.92  186.990  184.2700   186.73  101256225      0.0   \n",
       "1254   49799092    185.01  186.100  184.4100   184.41   49799092      0.0   \n",
       "1255   49515697    183.96  185.410  182.5901   184.90   49515697      0.0   \n",
       "1256   51245327    187.00  187.045  183.6700   183.74   51245327      0.0   \n",
       "\n",
       "      splitFactor  \n",
       "1252          1.0  \n",
       "1253          1.0  \n",
       "1254          1.0  \n",
       "1255          1.0  \n",
       "1256          1.0  "
      ]
     },
     "execution_count": 2,
     "metadata": {},
     "output_type": "execute_result"
    }
   ],
   "source": [
    "# Importing the datasets\n",
    "\n",
    "df = pd.read_csv('apple.csv')\n",
    "df.tail()"
   ]
  },
  {
   "cell_type": "code",
   "execution_count": 3,
   "id": "e9dc6b64",
   "metadata": {},
   "outputs": [
    {
     "data": {
      "text/plain": [
       "(1257,)"
      ]
     },
     "execution_count": 3,
     "metadata": {},
     "output_type": "execute_result"
    }
   ],
   "source": [
    "df1 = df.reset_index()['close']\n",
    "df1.shape"
   ]
  },
  {
   "cell_type": "code",
   "execution_count": 4,
   "id": "c2f4bed6",
   "metadata": {},
   "outputs": [
    {
     "data": {
      "text/plain": [
       "[<matplotlib.lines.Line2D at 0x24e35922bf0>]"
      ]
     },
     "execution_count": 4,
     "metadata": {},
     "output_type": "execute_result"
    },
    {
     "data": {
      "image/png": "[encoded data removed]",
      "text/plain": [
       "<Figure size 640x480 with 1 Axes>"
      ]
     },
     "metadata": {},
     "output_type": "display_data"
    }
   ],
   "source": [
    "# Displaying how the close values are distributed\n",
    "\n",
    "plt.plot(df['close'])"
   ]
  },
  {
   "cell_type": "code",
   "execution_count": 5,
   "id": "3f98fd54",
   "metadata": {},
   "outputs": [],
   "source": [
    "# Scaling down the values between (0,1)\n",
    "\n",
    "from sklearn.preprocessing import MinMaxScaler\n",
    "scaler = MinMaxScaler(feature_range=(0,1))\n",
    "df1 = scaler.fit_transform(np.array(df1).reshape(-1,1))"
   ]
  },
  {
   "cell_type": "code",
   "execution_count": 6,
   "id": "f01273f3",
   "metadata": {},
   "outputs": [
    {
     "name": "stdout",
     "output_type": "stream",
     "text": [
      "[[0.18867877]\n",
      " [0.19433939]\n",
      " [0.19366312]\n",
      " ...\n",
      " [0.19579211]\n",
      " [0.19316218]\n",
      " [0.20077646]]\n"
     ]
    }
   ],
   "source": [
    "# It has now transformed into an array containing values between 0 and 1\n",
    "print(df1)"
   ]
  },
  {
   "cell_type": "markdown",
   "id": "87f1ff36",
   "metadata": {},
   "source": [
    "# PREPROCESSING DATA"
   ]
  },
  {
   "cell_type": "code",
   "execution_count": 7,
   "id": "65895e08",
   "metadata": {},
   "outputs": [],
   "source": [
    "train_len = int(len(df1)*0.65)\n",
    "test_len = int(len(df1)-train_len)\n",
    "\n",
    "train_data = df1[train_len:]\n",
    "test_data = df1[train_len:len(df1):1]"
   ]
  },
  {
   "cell_type": "code",
   "execution_count": 8,
   "id": "7c1b993b",
   "metadata": {},
   "outputs": [
    {
     "data": {
      "text/plain": [
       "(817, 440)"
      ]
     },
     "execution_count": 8,
     "metadata": {},
     "output_type": "execute_result"
    }
   ],
   "source": [
    "train_len,test_len"
   ]
  },
  {
   "cell_type": "code",
   "execution_count": 9,
   "id": "5b4eddfe",
   "metadata": {},
   "outputs": [
    {
     "data": {
      "text/plain": [
       "(440, 440)"
      ]
     },
     "execution_count": 9,
     "metadata": {},
     "output_type": "execute_result"
    }
   ],
   "source": [
    "len(train_data),len(test_data)"
   ]
  },
  {
   "cell_type": "code",
   "execution_count": 10,
   "id": "a72bc93a",
   "metadata": {},
   "outputs": [],
   "source": [
    "# Converting array of values into a dataset matrox\n",
    "\n",
    "def create_dataset(dataset,time_step=1):\n",
    "    dataX,dataY = [],[]\n",
    "    for i in range(len(dataset)-time_step-1):\n",
    "        a = dataset[i:(i+time_step),0]\n",
    "        dataX.append(a)\n",
    "        dataY.append(dataset[i + time_step,0])\n",
    "    return np.array(dataX),np.array(dataY)"
   ]
  },
  {
   "cell_type": "code",
   "execution_count": 11,
   "id": "f2dbb703",
   "metadata": {},
   "outputs": [],
   "source": [
    "time_step = 100\n",
    "x_train,y_train = create_dataset(train_data,time_step)\n",
    "x_test,y_test = create_dataset(test_data,time_step)"
   ]
  },
  {
   "cell_type": "code",
   "execution_count": 12,
   "id": "19a133a6",
   "metadata": {},
   "outputs": [
    {
     "name": "stdout",
     "output_type": "stream",
     "text": [
      "(339, 100)\n",
      "(339,)\n"
     ]
    },
    {
     "data": {
      "text/plain": [
       "(None, None)"
      ]
     },
     "execution_count": 12,
     "metadata": {},
     "output_type": "execute_result"
    }
   ],
   "source": [
    "print(x_train.shape),print(y_train.shape)"
   ]
  },
  {
   "cell_type": "code",
   "execution_count": 13,
   "id": "cc086ac3",
   "metadata": {},
   "outputs": [
    {
     "name": "stdout",
     "output_type": "stream",
     "text": [
      "(339, 100)\n",
      "(339,)\n"
     ]
    },
    {
     "data": {
      "text/plain": [
       "(None, None)"
      ]
     },
     "execution_count": 13,
     "metadata": {},
     "output_type": "execute_result"
    }
   ],
   "source": [
    "print(x_test.shape),print(y_test.shape)"
   ]
  },
  {
   "cell_type": "markdown",
   "id": "e5fd3935",
   "metadata": {},
   "source": [
    "# CREATING A STACKED LSTM MODEL"
   ]
  },
  {
   "cell_type": "code",
   "execution_count": 14,
   "id": "6fc736ec",
   "metadata": {},
   "outputs": [],
   "source": [
    "# Reshaping the x_train and x_test data into 3-Dimension\n",
    "\n",
    "# Reshaping input to be [sample , time step,feature ] which is required for LSTM\n",
    "\n",
    "x_train = x_train.reshape(x_train.shape[0],x_train.shape[1],1)\n",
    "x_test = x_test.reshape(x_test.shape[0],x_test.shape[1],1)"
   ]
  },
  {
   "cell_type": "code",
   "execution_count": 15,
   "id": "fdf68a54",
   "metadata": {
    "scrolled": false
   },
   "outputs": [],
   "source": [
    "# Creating a stacked LSTM model\n",
    "\n",
    "model = Sequential()\n",
    "model.add(LSTM(50,return_sequences = True, input_shape = (100,1)))\n",
    "model.add(LSTM(50,return_sequences = True))\n",
    "model.add(LSTM(50))\n",
    "model.add(Dense(1))\n",
    "model.compile(loss = 'mean_squared_error', optimizer = 'adam')"
   ]
  },
  {
   "cell_type": "code",
   "execution_count": 16,
   "id": "d30da66f",
   "metadata": {},
   "outputs": [
    {
     "name": "stdout",
     "output_type": "stream",
     "text": [
      "Model: \"sequential\"\n",
      "_________________________________________________________________\n",
      " Layer (type)                Output Shape              Param #   \n",
      "=================================================================\n",
      " lstm (LSTM)                 (None, 100, 50)           10400     \n",
      "                                                                 \n",
      " lstm_1 (LSTM)               (None, 100, 50)           20200     \n",
      "                                                                 \n",
      " lstm_2 (LSTM)               (None, 50)                20200     \n",
      "                                                                 \n",
      " dense (Dense)               (None, 1)                 51        \n",
      "                                                                 \n",
      "=================================================================\n",
      "Total params: 50,851\n",
      "Trainable params: 50,851\n",
      "Non-trainable params: 0\n",
      "_________________________________________________________________\n"
     ]
    }
   ],
   "source": [
    "model.summary()"
   ]
  },
  {
   "cell_type": "code",
   "execution_count": 17,
   "id": "cbe2c5a7",
   "metadata": {},
   "outputs": [
    {
     "name": "stdout",
     "output_type": "stream",
     "text": [
      "Epoch 1/50\n",
      "6/6 [==============================] - 8s 471ms/step - loss: 0.0056 - val_loss: 0.0022\n",
      "Epoch 2/50\n",
      "6/6 [==============================] - 1s 193ms/step - loss: 0.0012 - val_loss: 0.0016\n",
      "Epoch 3/50\n",
      "6/6 [==============================] - 1s 197ms/step - loss: 0.0012 - val_loss: 6.8825e-04\n",
      "Epoch 4/50\n",
      "6/6 [==============================] - 1s 184ms/step - loss: 8.6991e-04 - val_loss: 7.0627e-04\n",
      "Epoch 5/50\n",
      "6/6 [==============================] - 1s 186ms/step - loss: 6.4797e-04 - val_loss: 7.5859e-04\n",
      "Epoch 6/50\n",
      "6/6 [==============================] - 1s 185ms/step - loss: 6.8597e-04 - val_loss: 5.9646e-04\n",
      "Epoch 7/50\n",
      "6/6 [==============================] - 1s 194ms/step - loss: 5.8967e-04 - val_loss: 5.6180e-04\n",
      "Epoch 8/50\n",
      "6/6 [==============================] - 1s 198ms/step - loss: 5.4562e-04 - val_loss: 5.2710e-04\n",
      "Epoch 9/50\n",
      "6/6 [==============================] - 1s 196ms/step - loss: 5.1341e-04 - val_loss: 4.8623e-04\n",
      "Epoch 10/50\n",
      "6/6 [==============================] - 1s 178ms/step - loss: 4.7079e-04 - val_loss: 4.5360e-04\n",
      "Epoch 11/50\n",
      "6/6 [==============================] - 1s 191ms/step - loss: 4.4846e-04 - val_loss: 4.1829e-04\n",
      "Epoch 12/50\n",
      "6/6 [==============================] - 1s 191ms/step - loss: 4.1279e-04 - val_loss: 3.9947e-04\n",
      "Epoch 13/50\n",
      "6/6 [==============================] - 1s 179ms/step - loss: 3.9540e-04 - val_loss: 3.8728e-04\n",
      "Epoch 14/50\n",
      "6/6 [==============================] - 1s 190ms/step - loss: 3.8477e-04 - val_loss: 3.8565e-04\n",
      "Epoch 15/50\n",
      "6/6 [==============================] - 1s 189ms/step - loss: 3.8309e-04 - val_loss: 4.0393e-04\n",
      "Epoch 16/50\n",
      "6/6 [==============================] - 1s 172ms/step - loss: 3.9270e-04 - val_loss: 4.1429e-04\n",
      "Epoch 17/50\n",
      "6/6 [==============================] - 1s 178ms/step - loss: 3.7065e-04 - val_loss: 3.7904e-04\n",
      "Epoch 18/50\n",
      "6/6 [==============================] - 1s 175ms/step - loss: 3.6919e-04 - val_loss: 3.3392e-04\n",
      "Epoch 19/50\n",
      "6/6 [==============================] - 1s 169ms/step - loss: 3.3959e-04 - val_loss: 3.2370e-04\n",
      "Epoch 20/50\n",
      "6/6 [==============================] - 1s 190ms/step - loss: 3.2567e-04 - val_loss: 3.1516e-04\n",
      "Epoch 21/50\n",
      "6/6 [==============================] - 1s 179ms/step - loss: 3.1718e-04 - val_loss: 3.0778e-04\n",
      "Epoch 22/50\n",
      "6/6 [==============================] - 1s 194ms/step - loss: 3.0395e-04 - val_loss: 2.9740e-04\n",
      "Epoch 23/50\n",
      "6/6 [==============================] - 1s 181ms/step - loss: 2.9404e-04 - val_loss: 2.8499e-04\n",
      "Epoch 24/50\n",
      "6/6 [==============================] - 1s 172ms/step - loss: 2.8379e-04 - val_loss: 2.7743e-04\n",
      "Epoch 25/50\n",
      "6/6 [==============================] - 1s 179ms/step - loss: 2.8638e-04 - val_loss: 3.1084e-04\n",
      "Epoch 26/50\n",
      "6/6 [==============================] - 1s 176ms/step - loss: 2.9514e-04 - val_loss: 2.6691e-04\n",
      "Epoch 27/50\n",
      "6/6 [==============================] - 1s 174ms/step - loss: 2.7997e-04 - val_loss: 3.0514e-04\n",
      "Epoch 28/50\n",
      "6/6 [==============================] - 1s 184ms/step - loss: 2.8734e-04 - val_loss: 2.5797e-04\n",
      "Epoch 29/50\n",
      "6/6 [==============================] - 1s 173ms/step - loss: 2.7483e-04 - val_loss: 3.0661e-04\n",
      "Epoch 30/50\n",
      "6/6 [==============================] - 1s 180ms/step - loss: 2.6964e-04 - val_loss: 2.9057e-04\n",
      "Epoch 31/50\n",
      "6/6 [==============================] - 1s 187ms/step - loss: 2.8424e-04 - val_loss: 2.4982e-04\n",
      "Epoch 32/50\n",
      "6/6 [==============================] - 1s 172ms/step - loss: 2.4950e-04 - val_loss: 2.6695e-04\n",
      "Epoch 33/50\n",
      "6/6 [==============================] - 1s 175ms/step - loss: 2.5663e-04 - val_loss: 3.0082e-04\n",
      "Epoch 34/50\n",
      "6/6 [==============================] - 1s 171ms/step - loss: 2.8582e-04 - val_loss: 2.4955e-04\n",
      "Epoch 35/50\n",
      "6/6 [==============================] - 1s 168ms/step - loss: 2.5696e-04 - val_loss: 2.7021e-04\n",
      "Epoch 36/50\n",
      "6/6 [==============================] - 1s 185ms/step - loss: 2.4196e-04 - val_loss: 3.1330e-04\n",
      "Epoch 37/50\n",
      "6/6 [==============================] - 1s 174ms/step - loss: 2.6972e-04 - val_loss: 2.5744e-04\n",
      "Epoch 38/50\n",
      "6/6 [==============================] - 1s 197ms/step - loss: 2.5795e-04 - val_loss: 2.3952e-04\n",
      "Epoch 39/50\n",
      "6/6 [==============================] - 1s 204ms/step - loss: 2.4326e-04 - val_loss: 2.4113e-04\n",
      "Epoch 40/50\n",
      "6/6 [==============================] - 1s 193ms/step - loss: 2.3482e-04 - val_loss: 2.2963e-04\n",
      "Epoch 41/50\n",
      "6/6 [==============================] - 1s 201ms/step - loss: 2.3197e-04 - val_loss: 2.2789e-04\n",
      "Epoch 42/50\n",
      "6/6 [==============================] - 1s 199ms/step - loss: 2.3398e-04 - val_loss: 2.4617e-04\n",
      "Epoch 43/50\n",
      "6/6 [==============================] - 1s 183ms/step - loss: 2.4349e-04 - val_loss: 2.7799e-04\n",
      "Epoch 44/50\n",
      "6/6 [==============================] - 1s 186ms/step - loss: 2.4046e-04 - val_loss: 2.2100e-04\n",
      "Epoch 45/50\n",
      "6/6 [==============================] - 1s 189ms/step - loss: 2.2475e-04 - val_loss: 2.1862e-04\n",
      "Epoch 46/50\n",
      "6/6 [==============================] - 1s 198ms/step - loss: 2.1950e-04 - val_loss: 2.1741e-04\n",
      "Epoch 47/50\n",
      "6/6 [==============================] - 1s 183ms/step - loss: 2.2097e-04 - val_loss: 2.1776e-04\n",
      "Epoch 48/50\n",
      "6/6 [==============================] - 1s 182ms/step - loss: 2.1719e-04 - val_loss: 2.2260e-04\n",
      "Epoch 49/50\n",
      "6/6 [==============================] - 1s 180ms/step - loss: 2.1833e-04 - val_loss: 2.1869e-04\n",
      "Epoch 50/50\n",
      "6/6 [==============================] - 1s 178ms/step - loss: 2.1710e-04 - val_loss: 2.1005e-04\n"
     ]
    },
    {
     "data": {
      "text/plain": [
       "<keras.callbacks.History at 0x24e3663ad40>"
      ]
     },
     "execution_count": 17,
     "metadata": {},
     "output_type": "execute_result"
    }
   ],
   "source": [
    "model.fit(x_train,y_train, validation_data=(x_test,y_test),epochs=50, batch_size=64, verbose=1)\n"
   ]
  },
  {
   "cell_type": "code",
   "execution_count": 21,
   "id": "da752066",
   "metadata": {},
   "outputs": [
    {
     "name": "stdout",
     "output_type": "stream",
     "text": [
      "11/11 [==============================] - 0s 24ms/step\n",
      "11/11 [==============================] - 0s 26ms/step\n"
     ]
    }
   ],
   "source": [
    "# Predicting and Checking performance metrics\n",
    "\n",
    "train_predict = model.predict(x_train)\n",
    "test_predict = model.predict(x_test)"
   ]
  },
  {
   "cell_type": "code",
   "execution_count": 22,
   "id": "c2cd2088",
   "metadata": {},
   "outputs": [],
   "source": [
    "# Tranform back to original form\n",
    "# Beacuse the data we have scaled down needs to be get in original form\n",
    "\n",
    "train_predict = scaler.inverse_transform(train_predict)\n",
    "test_predict = scaler.inverse_transform(test_predict)"
   ]
  },
  {
   "cell_type": "code",
   "execution_count": 23,
   "id": "e8ff4750",
   "metadata": {},
   "outputs": [],
   "source": [
    "import math\n",
    "from sklearn.metrics import mean_squared_error"
   ]
  },
  {
   "cell_type": "code",
   "execution_count": 24,
   "id": "c5d407d2",
   "metadata": {},
   "outputs": [
    {
     "data": {
      "text/plain": [
       "155.12005508900188"
      ]
     },
     "execution_count": 24,
     "metadata": {},
     "output_type": "execute_result"
    }
   ],
   "source": [
    "# Calculate RMSE performance metrics for train data\n",
    "\n",
    "math.sqrt(mean_squared_error(y_train,train_predict))"
   ]
  },
  {
   "cell_type": "code",
   "execution_count": 25,
   "id": "e0156bbd",
   "metadata": {},
   "outputs": [
    {
     "data": {
      "text/plain": [
       "155.12005508900188"
      ]
     },
     "execution_count": 25,
     "metadata": {},
     "output_type": "execute_result"
    }
   ],
   "source": [
    "# Test data RMSE\n",
    "\n",
    "math.sqrt(mean_squared_error(y_test,test_predict))"
   ]
  },
  {
   "cell_type": "markdown",
   "id": "01919f16",
   "metadata": {},
   "source": [
    "# PLOTTING THE PREDICTION"
   ]
  },
  {
   "cell_type": "code",
   "execution_count": 38,
   "id": "afea1ae3",
   "metadata": {},
   "outputs": [],
   "source": [
    "# SHIFT TRAIN PREDICTION FOR PLOTTING\n",
    "\n",
    "look_back = 100\n",
    "trainPredictPlot = np.empty_like(df1)\n",
    "trainPredictPlot[:,:] = np.nan\n",
    "trainPredictPlot[look_back:len(train_predict)+look_back, : ] = train_predict\n"
   ]
  },
  {
   "cell_type": "code",
   "execution_count": 39,
   "id": "a32003f9",
   "metadata": {},
   "outputs": [],
   "source": [
    "#shift test predictions for plotting\n",
    "testPredictPlot = np.empty_like(df1)\n",
    "testPredictPlot[:,:] = np.nan\n",
    "testPredictPlot[look_back:len(test_predict)+look_back, : ] = test_predict"
   ]
  },
  {
   "cell_type": "code",
   "execution_count": 40,
   "id": "d36326bd",
   "metadata": {},
   "outputs": [
    {
     "data": {
      "image/png": "[encoded data removed]",
      "text/plain": [
       "<Figure size 640x480 with 1 Axes>"
      ]
     },
     "metadata": {},
     "output_type": "display_data"
    }
   ],
   "source": [
    "#plot baseline and predictions\n",
    "plt.plot(scaler.inverse_transform(df1))\n",
    "plt.plot(trainPredictPlot)\n",
    "plt.plot(testPredictPlot)\n",
    "plt.show()"
   ]
  },
  {
   "cell_type": "code",
   "execution_count": 41,
   "id": "643f8da5",
   "metadata": {},
   "outputs": [
    {
     "data": {
      "text/plain": [
       "440"
      ]
     },
     "execution_count": 41,
     "metadata": {},
     "output_type": "execute_result"
    }
   ],
   "source": [
    "len(test_data)"
   ]
  },
  {
   "cell_type": "code",
   "execution_count": 42,
   "id": "984190e5",
   "metadata": {},
   "outputs": [
    {
     "data": {
      "text/plain": [
       "340"
      ]
     },
     "execution_count": 42,
     "metadata": {},
     "output_type": "execute_result"
    }
   ],
   "source": [
    "# Last date of our data is 22/6. To predict for 23/6 we need to study previous 100\n",
    "\n",
    "440-100"
   ]
  },
  {
   "cell_type": "code",
   "execution_count": 43,
   "id": "6d536a5c",
   "metadata": {},
   "outputs": [
    {
     "data": {
      "text/plain": [
       "(1, 100)"
      ]
     },
     "execution_count": 43,
     "metadata": {},
     "output_type": "execute_result"
    }
   ],
   "source": [
    "x_input = test_data[340:].reshape(1,-1)\n",
    "x_input.shape"
   ]
  },
  {
   "cell_type": "code",
   "execution_count": 44,
   "id": "c495e344",
   "metadata": {},
   "outputs": [
    {
     "data": {
      "text/plain": [
       "[0.09056981840951783,\n",
       " 0.0938008766437069,\n",
       " 0.09665623043206006,\n",
       " 0.11015654351909826,\n",
       " 0.11937382592360674,\n",
       " 0.1124358171571696,\n",
       " 0.11974953036944269,\n",
       " 0.11291170945522849,\n",
       " 0.11028177833437691,\n",
       " 0.1106324358171571,\n",
       " 0.11774577332498432,\n",
       " 0.11611772072636184,\n",
       " 0.12145272385723233,\n",
       " 0.11739511584220413,\n",
       " 0.11448966812773947,\n",
       " 0.10429555416405756,\n",
       " 0.10537257357545393,\n",
       " 0.10659987476518468,\n",
       " 0.09986224170319347,\n",
       " 0.10289292423293667,\n",
       " 0.10161552911709448,\n",
       " 0.09635566687539132,\n",
       " 0.09785848465873509,\n",
       " 0.11068252974326859,\n",
       " 0.11769567939887288,\n",
       " 0.11211020663744514,\n",
       " 0.11529117094552283,\n",
       " 0.1095804633688165,\n",
       " 0.10434564809016905,\n",
       " 0.10927989981214775,\n",
       " 0.11458985597996241,\n",
       " 0.11559173450219157,\n",
       " 0.12275516593613017,\n",
       " 0.1206261740763932,\n",
       " 0.12663744520976827,\n",
       " 0.13134627426424544,\n",
       " 0.12771446462116465,\n",
       " 0.13046963055729488,\n",
       " 0.13377582968065116,\n",
       " 0.12884157795867246,\n",
       " 0.12726361928616153,\n",
       " 0.13507827175954912,\n",
       " 0.13906073888541015,\n",
       " 0.1454226675015654,\n",
       " 0.14860363180964303,\n",
       " 0.14725109580463364,\n",
       " 0.14256731371321218,\n",
       " 0.14482154038822787,\n",
       " 0.13823418910457103,\n",
       " 0.13515341264871633,\n",
       " 0.1334001252348152,\n",
       " 0.14707576706324355,\n",
       " 0.14619912335629304,\n",
       " 0.14624921728240442,\n",
       " 0.14935504070131495,\n",
       " 0.15226048841577955,\n",
       " 0.14980588603631806,\n",
       " 0.14572323105823415,\n",
       " 0.14649968691296178,\n",
       " 0.14259236067626796,\n",
       " 0.14256731371321218,\n",
       " 0.15421415153412643,\n",
       " 0.15739511584220411,\n",
       " 0.15716969317470253,\n",
       " 0.1545397620538509,\n",
       " 0.15180964308077638,\n",
       " 0.1476518472135253,\n",
       " 0.16713838447088286,\n",
       " 0.16696305572949277,\n",
       " 0.16262993112085156,\n",
       " 0.16710081402629928,\n",
       " 0.16758922980588598,\n",
       " 0.16463368816530988,\n",
       " 0.1633813400125234,\n",
       " 0.1633813400125234,\n",
       " 0.16493425172197868,\n",
       " 0.17084533500313087,\n",
       " 0.17112085159674384,\n",
       " 0.1687163431433938,\n",
       " 0.16210394489668123,\n",
       " 0.16280525986224165,\n",
       " 0.1656856606136506,\n",
       " 0.17179711959924854,\n",
       " 0.17648090169067,\n",
       " 0.17635566687539134,\n",
       " 0.1834690043832185,\n",
       " 0.1856230432060112,\n",
       " 0.18219160926737632,\n",
       " 0.18126487163431432,\n",
       " 0.1777833437695679,\n",
       " 0.18467125860989347,\n",
       " 0.18564809016906697,\n",
       " 0.19273638071383836,\n",
       " 0.1915341264871634,\n",
       " 0.19313713212273004,\n",
       " 0.19829680651221032,\n",
       " 0.1955666875391358,\n",
       " 0.1957921102066374,\n",
       " 0.1931621790857858,\n",
       " 0.2007764558547276]"
      ]
     },
     "execution_count": 44,
     "metadata": {},
     "output_type": "execute_result"
    }
   ],
   "source": [
    "temp_input = list(x_input)\n",
    "temp_input = temp_input[0].tolist()\n",
    "temp_input"
   ]
  },
  {
   "cell_type": "markdown",
   "id": "d42be6f0",
   "metadata": {},
   "source": [
    "# PREDICTION FOR NEXT 30 DAYS"
   ]
  },
  {
   "cell_type": "code",
   "execution_count": 45,
   "id": "7d778fd0",
   "metadata": {},
   "outputs": [
    {
     "name": "stdout",
     "output_type": "stream",
     "text": [
      "[0.18740964]\n",
      "101\n",
      "1 day input [0.09380088 0.09665623 0.11015654 0.11937383 0.11243582 0.11974953\n",
      " 0.11291171 0.11028178 0.11063244 0.11774577 0.11611772 0.12145272\n",
      " 0.11739512 0.11448967 0.10429555 0.10537257 0.10659987 0.09986224\n",
      " 0.10289292 0.10161553 0.09635567 0.09785848 0.11068253 0.11769568\n",
      " 0.11211021 0.11529117 0.10958046 0.10434565 0.1092799  0.11458986\n",
      " 0.11559173 0.12275517 0.12062617 0.12663745 0.13134627 0.12771446\n",
      " 0.13046963 0.13377583 0.12884158 0.12726362 0.13507827 0.13906074\n",
      " 0.14542267 0.14860363 0.1472511  0.14256731 0.14482154 0.13823419\n",
      " 0.13515341 0.13340013 0.14707577 0.14619912 0.14624922 0.14935504\n",
      " 0.15226049 0.14980589 0.14572323 0.14649969 0.14259236 0.14256731\n",
      " 0.15421415 0.15739512 0.15716969 0.15453976 0.15180964 0.14765185\n",
      " 0.16713838 0.16696306 0.16262993 0.16710081 0.16758923 0.16463369\n",
      " 0.16338134 0.16338134 0.16493425 0.17084534 0.17112085 0.16871634\n",
      " 0.16210394 0.16280526 0.16568566 0.17179712 0.1764809  0.17635567\n",
      " 0.183469   0.18562304 0.18219161 0.18126487 0.17778334 0.18467126\n",
      " 0.18564809 0.19273638 0.19153413 0.19313713 0.19829681 0.19556669\n",
      " 0.19579211 0.19316218 0.20077646 0.18740964]\n",
      "1 day output [[0.1882472]]\n",
      "2 day input [0.09665623 0.11015654 0.11937383 0.11243582 0.11974953 0.11291171\n",
      " 0.11028178 0.11063244 0.11774577 0.11611772 0.12145272 0.11739512\n",
      " 0.11448967 0.10429555 0.10537257 0.10659987 0.09986224 0.10289292\n",
      " 0.10161553 0.09635567 0.09785848 0.11068253 0.11769568 0.11211021\n",
      " 0.11529117 0.10958046 0.10434565 0.1092799  0.11458986 0.11559173\n",
      " 0.12275517 0.12062617 0.12663745 0.13134627 0.12771446 0.13046963\n",
      " 0.13377583 0.12884158 0.12726362 0.13507827 0.13906074 0.14542267\n",
      " 0.14860363 0.1472511  0.14256731 0.14482154 0.13823419 0.13515341\n",
      " 0.13340013 0.14707577 0.14619912 0.14624922 0.14935504 0.15226049\n",
      " 0.14980589 0.14572323 0.14649969 0.14259236 0.14256731 0.15421415\n",
      " 0.15739512 0.15716969 0.15453976 0.15180964 0.14765185 0.16713838\n",
      " 0.16696306 0.16262993 0.16710081 0.16758923 0.16463369 0.16338134\n",
      " 0.16338134 0.16493425 0.17084534 0.17112085 0.16871634 0.16210394\n",
      " 0.16280526 0.16568566 0.17179712 0.1764809  0.17635567 0.183469\n",
      " 0.18562304 0.18219161 0.18126487 0.17778334 0.18467126 0.18564809\n",
      " 0.19273638 0.19153413 0.19313713 0.19829681 0.19556669 0.19579211\n",
      " 0.19316218 0.20077646 0.18740964 0.1882472 ]\n",
      "2 day output [[0.18846902]]\n",
      "3 day input [0.11015654 0.11937383 0.11243582 0.11974953 0.11291171 0.11028178\n",
      " 0.11063244 0.11774577 0.11611772 0.12145272 0.11739512 0.11448967\n",
      " 0.10429555 0.10537257 0.10659987 0.09986224 0.10289292 0.10161553\n",
      " 0.09635567 0.09785848 0.11068253 0.11769568 0.11211021 0.11529117\n",
      " 0.10958046 0.10434565 0.1092799  0.11458986 0.11559173 0.12275517\n",
      " 0.12062617 0.12663745 0.13134627 0.12771446 0.13046963 0.13377583\n",
      " 0.12884158 0.12726362 0.13507827 0.13906074 0.14542267 0.14860363\n",
      " 0.1472511  0.14256731 0.14482154 0.13823419 0.13515341 0.13340013\n",
      " 0.14707577 0.14619912 0.14624922 0.14935504 0.15226049 0.14980589\n",
      " 0.14572323 0.14649969 0.14259236 0.14256731 0.15421415 0.15739512\n",
      " 0.15716969 0.15453976 0.15180964 0.14765185 0.16713838 0.16696306\n",
      " 0.16262993 0.16710081 0.16758923 0.16463369 0.16338134 0.16338134\n",
      " 0.16493425 0.17084534 0.17112085 0.16871634 0.16210394 0.16280526\n",
      " 0.16568566 0.17179712 0.1764809  0.17635567 0.183469   0.18562304\n",
      " 0.18219161 0.18126487 0.17778334 0.18467126 0.18564809 0.19273638\n",
      " 0.19153413 0.19313713 0.19829681 0.19556669 0.19579211 0.19316218\n",
      " 0.20077646 0.18740964 0.1882472  0.18846902]\n",
      "3 day output [[0.18811597]]\n",
      "4 day input [0.11937383 0.11243582 0.11974953 0.11291171 0.11028178 0.11063244\n",
      " 0.11774577 0.11611772 0.12145272 0.11739512 0.11448967 0.10429555\n",
      " 0.10537257 0.10659987 0.09986224 0.10289292 0.10161553 0.09635567\n",
      " 0.09785848 0.11068253 0.11769568 0.11211021 0.11529117 0.10958046\n",
      " 0.10434565 0.1092799  0.11458986 0.11559173 0.12275517 0.12062617\n",
      " 0.12663745 0.13134627 0.12771446 0.13046963 0.13377583 0.12884158\n",
      " 0.12726362 0.13507827 0.13906074 0.14542267 0.14860363 0.1472511\n",
      " 0.14256731 0.14482154 0.13823419 0.13515341 0.13340013 0.14707577\n",
      " 0.14619912 0.14624922 0.14935504 0.15226049 0.14980589 0.14572323\n",
      " 0.14649969 0.14259236 0.14256731 0.15421415 0.15739512 0.15716969\n",
      " 0.15453976 0.15180964 0.14765185 0.16713838 0.16696306 0.16262993\n",
      " 0.16710081 0.16758923 0.16463369 0.16338134 0.16338134 0.16493425\n",
      " 0.17084534 0.17112085 0.16871634 0.16210394 0.16280526 0.16568566\n",
      " 0.17179712 0.1764809  0.17635567 0.183469   0.18562304 0.18219161\n",
      " 0.18126487 0.17778334 0.18467126 0.18564809 0.19273638 0.19153413\n",
      " 0.19313713 0.19829681 0.19556669 0.19579211 0.19316218 0.20077646\n",
      " 0.18740964 0.1882472  0.18846902 0.18811597]\n",
      "4 day output [[0.18728583]]\n",
      "5 day input [0.11243582 0.11974953 0.11291171 0.11028178 0.11063244 0.11774577\n",
      " 0.11611772 0.12145272 0.11739512 0.11448967 0.10429555 0.10537257\n",
      " 0.10659987 0.09986224 0.10289292 0.10161553 0.09635567 0.09785848\n",
      " 0.11068253 0.11769568 0.11211021 0.11529117 0.10958046 0.10434565\n",
      " 0.1092799  0.11458986 0.11559173 0.12275517 0.12062617 0.12663745\n",
      " 0.13134627 0.12771446 0.13046963 0.13377583 0.12884158 0.12726362\n",
      " 0.13507827 0.13906074 0.14542267 0.14860363 0.1472511  0.14256731\n",
      " 0.14482154 0.13823419 0.13515341 0.13340013 0.14707577 0.14619912\n",
      " 0.14624922 0.14935504 0.15226049 0.14980589 0.14572323 0.14649969\n",
      " 0.14259236 0.14256731 0.15421415 0.15739512 0.15716969 0.15453976\n",
      " 0.15180964 0.14765185 0.16713838 0.16696306 0.16262993 0.16710081\n",
      " 0.16758923 0.16463369 0.16338134 0.16338134 0.16493425 0.17084534\n",
      " 0.17112085 0.16871634 0.16210394 0.16280526 0.16568566 0.17179712\n",
      " 0.1764809  0.17635567 0.183469   0.18562304 0.18219161 0.18126487\n",
      " 0.17778334 0.18467126 0.18564809 0.19273638 0.19153413 0.19313713\n",
      " 0.19829681 0.19556669 0.19579211 0.19316218 0.20077646 0.18740964\n",
      " 0.1882472  0.18846902 0.18811597 0.18728583]\n",
      "5 day output [[0.1860881]]\n",
      "6 day input [0.11974953 0.11291171 0.11028178 0.11063244 0.11774577 0.11611772\n",
      " 0.12145272 0.11739512 0.11448967 0.10429555 0.10537257 0.10659987\n",
      " 0.09986224 0.10289292 0.10161553 0.09635567 0.09785848 0.11068253\n",
      " 0.11769568 0.11211021 0.11529117 0.10958046 0.10434565 0.1092799\n",
      " 0.11458986 0.11559173 0.12275517 0.12062617 0.12663745 0.13134627\n",
      " 0.12771446 0.13046963 0.13377583 0.12884158 0.12726362 0.13507827\n",
      " 0.13906074 0.14542267 0.14860363 0.1472511  0.14256731 0.14482154\n",
      " 0.13823419 0.13515341 0.13340013 0.14707577 0.14619912 0.14624922\n",
      " 0.14935504 0.15226049 0.14980589 0.14572323 0.14649969 0.14259236\n",
      " 0.14256731 0.15421415 0.15739512 0.15716969 0.15453976 0.15180964\n",
      " 0.14765185 0.16713838 0.16696306 0.16262993 0.16710081 0.16758923\n",
      " 0.16463369 0.16338134 0.16338134 0.16493425 0.17084534 0.17112085\n",
      " 0.16871634 0.16210394 0.16280526 0.16568566 0.17179712 0.1764809\n",
      " 0.17635567 0.183469   0.18562304 0.18219161 0.18126487 0.17778334\n",
      " 0.18467126 0.18564809 0.19273638 0.19153413 0.19313713 0.19829681\n",
      " 0.19556669 0.19579211 0.19316218 0.20077646 0.18740964 0.1882472\n",
      " 0.18846902 0.18811597 0.18728583 0.1860881 ]\n",
      "6 day output [[0.18462074]]\n",
      "7 day input [0.11291171 0.11028178 0.11063244 0.11774577 0.11611772 0.12145272\n",
      " 0.11739512 0.11448967 0.10429555 0.10537257 0.10659987 0.09986224\n",
      " 0.10289292 0.10161553 0.09635567 0.09785848 0.11068253 0.11769568\n",
      " 0.11211021 0.11529117 0.10958046 0.10434565 0.1092799  0.11458986\n",
      " 0.11559173 0.12275517 0.12062617 0.12663745 0.13134627 0.12771446\n",
      " 0.13046963 0.13377583 0.12884158 0.12726362 0.13507827 0.13906074\n",
      " 0.14542267 0.14860363 0.1472511  0.14256731 0.14482154 0.13823419\n",
      " 0.13515341 0.13340013 0.14707577 0.14619912 0.14624922 0.14935504\n",
      " 0.15226049 0.14980589 0.14572323 0.14649969 0.14259236 0.14256731\n",
      " 0.15421415 0.15739512 0.15716969 0.15453976 0.15180964 0.14765185\n",
      " 0.16713838 0.16696306 0.16262993 0.16710081 0.16758923 0.16463369\n",
      " 0.16338134 0.16338134 0.16493425 0.17084534 0.17112085 0.16871634\n",
      " 0.16210394 0.16280526 0.16568566 0.17179712 0.1764809  0.17635567\n",
      " 0.183469   0.18562304 0.18219161 0.18126487 0.17778334 0.18467126\n",
      " 0.18564809 0.19273638 0.19153413 0.19313713 0.19829681 0.19556669\n",
      " 0.19579211 0.19316218 0.20077646 0.18740964 0.1882472  0.18846902\n",
      " 0.18811597 0.18728583 0.1860881  0.18462074]\n",
      "7 day output [[0.18296118]]\n",
      "8 day input [0.11028178 0.11063244 0.11774577 0.11611772 0.12145272 0.11739512\n",
      " 0.11448967 0.10429555 0.10537257 0.10659987 0.09986224 0.10289292\n",
      " 0.10161553 0.09635567 0.09785848 0.11068253 0.11769568 0.11211021\n",
      " 0.11529117 0.10958046 0.10434565 0.1092799  0.11458986 0.11559173\n",
      " 0.12275517 0.12062617 0.12663745 0.13134627 0.12771446 0.13046963\n",
      " 0.13377583 0.12884158 0.12726362 0.13507827 0.13906074 0.14542267\n",
      " 0.14860363 0.1472511  0.14256731 0.14482154 0.13823419 0.13515341\n",
      " 0.13340013 0.14707577 0.14619912 0.14624922 0.14935504 0.15226049\n",
      " 0.14980589 0.14572323 0.14649969 0.14259236 0.14256731 0.15421415\n",
      " 0.15739512 0.15716969 0.15453976 0.15180964 0.14765185 0.16713838\n",
      " 0.16696306 0.16262993 0.16710081 0.16758923 0.16463369 0.16338134\n",
      " 0.16338134 0.16493425 0.17084534 0.17112085 0.16871634 0.16210394\n",
      " 0.16280526 0.16568566 0.17179712 0.1764809  0.17635567 0.183469\n",
      " 0.18562304 0.18219161 0.18126487 0.17778334 0.18467126 0.18564809\n",
      " 0.19273638 0.19153413 0.19313713 0.19829681 0.19556669 0.19579211\n",
      " 0.19316218 0.20077646 0.18740964 0.1882472  0.18846902 0.18811597\n",
      " 0.18728583 0.1860881  0.18462074 0.18296118]\n",
      "8 day output [[0.18116593]]\n",
      "9 day input [0.11063244 0.11774577 0.11611772 0.12145272 0.11739512 0.11448967\n",
      " 0.10429555 0.10537257 0.10659987 0.09986224 0.10289292 0.10161553\n",
      " 0.09635567 0.09785848 0.11068253 0.11769568 0.11211021 0.11529117\n",
      " 0.10958046 0.10434565 0.1092799  0.11458986 0.11559173 0.12275517\n",
      " 0.12062617 0.12663745 0.13134627 0.12771446 0.13046963 0.13377583\n",
      " 0.12884158 0.12726362 0.13507827 0.13906074 0.14542267 0.14860363\n",
      " 0.1472511  0.14256731 0.14482154 0.13823419 0.13515341 0.13340013\n",
      " 0.14707577 0.14619912 0.14624922 0.14935504 0.15226049 0.14980589\n",
      " 0.14572323 0.14649969 0.14259236 0.14256731 0.15421415 0.15739512\n",
      " 0.15716969 0.15453976 0.15180964 0.14765185 0.16713838 0.16696306\n",
      " 0.16262993 0.16710081 0.16758923 0.16463369 0.16338134 0.16338134\n",
      " 0.16493425 0.17084534 0.17112085 0.16871634 0.16210394 0.16280526\n",
      " 0.16568566 0.17179712 0.1764809  0.17635567 0.183469   0.18562304\n",
      " 0.18219161 0.18126487 0.17778334 0.18467126 0.18564809 0.19273638\n",
      " 0.19153413 0.19313713 0.19829681 0.19556669 0.19579211 0.19316218\n",
      " 0.20077646 0.18740964 0.1882472  0.18846902 0.18811597 0.18728583\n",
      " 0.1860881  0.18462074 0.18296118 0.18116593]\n"
     ]
    },
    {
     "name": "stdout",
     "output_type": "stream",
     "text": [
      "9 day output [[0.17927384]]\n",
      "10 day input [0.11774577 0.11611772 0.12145272 0.11739512 0.11448967 0.10429555\n",
      " 0.10537257 0.10659987 0.09986224 0.10289292 0.10161553 0.09635567\n",
      " 0.09785848 0.11068253 0.11769568 0.11211021 0.11529117 0.10958046\n",
      " 0.10434565 0.1092799  0.11458986 0.11559173 0.12275517 0.12062617\n",
      " 0.12663745 0.13134627 0.12771446 0.13046963 0.13377583 0.12884158\n",
      " 0.12726362 0.13507827 0.13906074 0.14542267 0.14860363 0.1472511\n",
      " 0.14256731 0.14482154 0.13823419 0.13515341 0.13340013 0.14707577\n",
      " 0.14619912 0.14624922 0.14935504 0.15226049 0.14980589 0.14572323\n",
      " 0.14649969 0.14259236 0.14256731 0.15421415 0.15739512 0.15716969\n",
      " 0.15453976 0.15180964 0.14765185 0.16713838 0.16696306 0.16262993\n",
      " 0.16710081 0.16758923 0.16463369 0.16338134 0.16338134 0.16493425\n",
      " 0.17084534 0.17112085 0.16871634 0.16210394 0.16280526 0.16568566\n",
      " 0.17179712 0.1764809  0.17635567 0.183469   0.18562304 0.18219161\n",
      " 0.18126487 0.17778334 0.18467126 0.18564809 0.19273638 0.19153413\n",
      " 0.19313713 0.19829681 0.19556669 0.19579211 0.19316218 0.20077646\n",
      " 0.18740964 0.1882472  0.18846902 0.18811597 0.18728583 0.1860881\n",
      " 0.18462074 0.18296118 0.18116593 0.17927384]\n",
      "10 day output [[0.17731078]]\n",
      "11 day input [0.11611772 0.12145272 0.11739512 0.11448967 0.10429555 0.10537257\n",
      " 0.10659987 0.09986224 0.10289292 0.10161553 0.09635567 0.09785848\n",
      " 0.11068253 0.11769568 0.11211021 0.11529117 0.10958046 0.10434565\n",
      " 0.1092799  0.11458986 0.11559173 0.12275517 0.12062617 0.12663745\n",
      " 0.13134627 0.12771446 0.13046963 0.13377583 0.12884158 0.12726362\n",
      " 0.13507827 0.13906074 0.14542267 0.14860363 0.1472511  0.14256731\n",
      " 0.14482154 0.13823419 0.13515341 0.13340013 0.14707577 0.14619912\n",
      " 0.14624922 0.14935504 0.15226049 0.14980589 0.14572323 0.14649969\n",
      " 0.14259236 0.14256731 0.15421415 0.15739512 0.15716969 0.15453976\n",
      " 0.15180964 0.14765185 0.16713838 0.16696306 0.16262993 0.16710081\n",
      " 0.16758923 0.16463369 0.16338134 0.16338134 0.16493425 0.17084534\n",
      " 0.17112085 0.16871634 0.16210394 0.16280526 0.16568566 0.17179712\n",
      " 0.1764809  0.17635567 0.183469   0.18562304 0.18219161 0.18126487\n",
      " 0.17778334 0.18467126 0.18564809 0.19273638 0.19153413 0.19313713\n",
      " 0.19829681 0.19556669 0.19579211 0.19316218 0.20077646 0.18740964\n",
      " 0.1882472  0.18846902 0.18811597 0.18728583 0.1860881  0.18462074\n",
      " 0.18296118 0.18116593 0.17927384 0.17731078]\n",
      "11 day output [[0.1752937]]\n",
      "12 day input [0.12145272 0.11739512 0.11448967 0.10429555 0.10537257 0.10659987\n",
      " 0.09986224 0.10289292 0.10161553 0.09635567 0.09785848 0.11068253\n",
      " 0.11769568 0.11211021 0.11529117 0.10958046 0.10434565 0.1092799\n",
      " 0.11458986 0.11559173 0.12275517 0.12062617 0.12663745 0.13134627\n",
      " 0.12771446 0.13046963 0.13377583 0.12884158 0.12726362 0.13507827\n",
      " 0.13906074 0.14542267 0.14860363 0.1472511  0.14256731 0.14482154\n",
      " 0.13823419 0.13515341 0.13340013 0.14707577 0.14619912 0.14624922\n",
      " 0.14935504 0.15226049 0.14980589 0.14572323 0.14649969 0.14259236\n",
      " 0.14256731 0.15421415 0.15739512 0.15716969 0.15453976 0.15180964\n",
      " 0.14765185 0.16713838 0.16696306 0.16262993 0.16710081 0.16758923\n",
      " 0.16463369 0.16338134 0.16338134 0.16493425 0.17084534 0.17112085\n",
      " 0.16871634 0.16210394 0.16280526 0.16568566 0.17179712 0.1764809\n",
      " 0.17635567 0.183469   0.18562304 0.18219161 0.18126487 0.17778334\n",
      " 0.18467126 0.18564809 0.19273638 0.19153413 0.19313713 0.19829681\n",
      " 0.19556669 0.19579211 0.19316218 0.20077646 0.18740964 0.1882472\n",
      " 0.18846902 0.18811597 0.18728583 0.1860881  0.18462074 0.18296118\n",
      " 0.18116593 0.17927384 0.17731078 0.1752937 ]\n",
      "12 day output [[0.17323449]]\n",
      "13 day input [0.11739512 0.11448967 0.10429555 0.10537257 0.10659987 0.09986224\n",
      " 0.10289292 0.10161553 0.09635567 0.09785848 0.11068253 0.11769568\n",
      " 0.11211021 0.11529117 0.10958046 0.10434565 0.1092799  0.11458986\n",
      " 0.11559173 0.12275517 0.12062617 0.12663745 0.13134627 0.12771446\n",
      " 0.13046963 0.13377583 0.12884158 0.12726362 0.13507827 0.13906074\n",
      " 0.14542267 0.14860363 0.1472511  0.14256731 0.14482154 0.13823419\n",
      " 0.13515341 0.13340013 0.14707577 0.14619912 0.14624922 0.14935504\n",
      " 0.15226049 0.14980589 0.14572323 0.14649969 0.14259236 0.14256731\n",
      " 0.15421415 0.15739512 0.15716969 0.15453976 0.15180964 0.14765185\n",
      " 0.16713838 0.16696306 0.16262993 0.16710081 0.16758923 0.16463369\n",
      " 0.16338134 0.16338134 0.16493425 0.17084534 0.17112085 0.16871634\n",
      " 0.16210394 0.16280526 0.16568566 0.17179712 0.1764809  0.17635567\n",
      " 0.183469   0.18562304 0.18219161 0.18126487 0.17778334 0.18467126\n",
      " 0.18564809 0.19273638 0.19153413 0.19313713 0.19829681 0.19556669\n",
      " 0.19579211 0.19316218 0.20077646 0.18740964 0.1882472  0.18846902\n",
      " 0.18811597 0.18728583 0.1860881  0.18462074 0.18296118 0.18116593\n",
      " 0.17927384 0.17731078 0.1752937  0.17323449]\n",
      "13 day output [[0.17114227]]\n",
      "14 day input [0.11448967 0.10429555 0.10537257 0.10659987 0.09986224 0.10289292\n",
      " 0.10161553 0.09635567 0.09785848 0.11068253 0.11769568 0.11211021\n",
      " 0.11529117 0.10958046 0.10434565 0.1092799  0.11458986 0.11559173\n",
      " 0.12275517 0.12062617 0.12663745 0.13134627 0.12771446 0.13046963\n",
      " 0.13377583 0.12884158 0.12726362 0.13507827 0.13906074 0.14542267\n",
      " 0.14860363 0.1472511  0.14256731 0.14482154 0.13823419 0.13515341\n",
      " 0.13340013 0.14707577 0.14619912 0.14624922 0.14935504 0.15226049\n",
      " 0.14980589 0.14572323 0.14649969 0.14259236 0.14256731 0.15421415\n",
      " 0.15739512 0.15716969 0.15453976 0.15180964 0.14765185 0.16713838\n",
      " 0.16696306 0.16262993 0.16710081 0.16758923 0.16463369 0.16338134\n",
      " 0.16338134 0.16493425 0.17084534 0.17112085 0.16871634 0.16210394\n",
      " 0.16280526 0.16568566 0.17179712 0.1764809  0.17635567 0.183469\n",
      " 0.18562304 0.18219161 0.18126487 0.17778334 0.18467126 0.18564809\n",
      " 0.19273638 0.19153413 0.19313713 0.19829681 0.19556669 0.19579211\n",
      " 0.19316218 0.20077646 0.18740964 0.1882472  0.18846902 0.18811597\n",
      " 0.18728583 0.1860881  0.18462074 0.18296118 0.18116593 0.17927384\n",
      " 0.17731078 0.1752937  0.17323449 0.17114227]\n",
      "14 day output [[0.16902462]]\n",
      "15 day input [0.10429555 0.10537257 0.10659987 0.09986224 0.10289292 0.10161553\n",
      " 0.09635567 0.09785848 0.11068253 0.11769568 0.11211021 0.11529117\n",
      " 0.10958046 0.10434565 0.1092799  0.11458986 0.11559173 0.12275517\n",
      " 0.12062617 0.12663745 0.13134627 0.12771446 0.13046963 0.13377583\n",
      " 0.12884158 0.12726362 0.13507827 0.13906074 0.14542267 0.14860363\n",
      " 0.1472511  0.14256731 0.14482154 0.13823419 0.13515341 0.13340013\n",
      " 0.14707577 0.14619912 0.14624922 0.14935504 0.15226049 0.14980589\n",
      " 0.14572323 0.14649969 0.14259236 0.14256731 0.15421415 0.15739512\n",
      " 0.15716969 0.15453976 0.15180964 0.14765185 0.16713838 0.16696306\n",
      " 0.16262993 0.16710081 0.16758923 0.16463369 0.16338134 0.16338134\n",
      " 0.16493425 0.17084534 0.17112085 0.16871634 0.16210394 0.16280526\n",
      " 0.16568566 0.17179712 0.1764809  0.17635567 0.183469   0.18562304\n",
      " 0.18219161 0.18126487 0.17778334 0.18467126 0.18564809 0.19273638\n",
      " 0.19153413 0.19313713 0.19829681 0.19556669 0.19579211 0.19316218\n",
      " 0.20077646 0.18740964 0.1882472  0.18846902 0.18811597 0.18728583\n",
      " 0.1860881  0.18462074 0.18296118 0.18116593 0.17927384 0.17731078\n",
      " 0.1752937  0.17323449 0.17114227 0.16902462]\n",
      "15 day output [[0.16688877]]\n",
      "16 day input [0.10537257 0.10659987 0.09986224 0.10289292 0.10161553 0.09635567\n",
      " 0.09785848 0.11068253 0.11769568 0.11211021 0.11529117 0.10958046\n",
      " 0.10434565 0.1092799  0.11458986 0.11559173 0.12275517 0.12062617\n",
      " 0.12663745 0.13134627 0.12771446 0.13046963 0.13377583 0.12884158\n",
      " 0.12726362 0.13507827 0.13906074 0.14542267 0.14860363 0.1472511\n",
      " 0.14256731 0.14482154 0.13823419 0.13515341 0.13340013 0.14707577\n",
      " 0.14619912 0.14624922 0.14935504 0.15226049 0.14980589 0.14572323\n",
      " 0.14649969 0.14259236 0.14256731 0.15421415 0.15739512 0.15716969\n",
      " 0.15453976 0.15180964 0.14765185 0.16713838 0.16696306 0.16262993\n",
      " 0.16710081 0.16758923 0.16463369 0.16338134 0.16338134 0.16493425\n",
      " 0.17084534 0.17112085 0.16871634 0.16210394 0.16280526 0.16568566\n",
      " 0.17179712 0.1764809  0.17635567 0.183469   0.18562304 0.18219161\n",
      " 0.18126487 0.17778334 0.18467126 0.18564809 0.19273638 0.19153413\n",
      " 0.19313713 0.19829681 0.19556669 0.19579211 0.19316218 0.20077646\n",
      " 0.18740964 0.1882472  0.18846902 0.18811597 0.18728583 0.1860881\n",
      " 0.18462074 0.18296118 0.18116593 0.17927384 0.17731078 0.1752937\n",
      " 0.17323449 0.17114227 0.16902462 0.16688877]\n",
      "16 day output [[0.16474196]]\n",
      "17 day input [0.10659987 0.09986224 0.10289292 0.10161553 0.09635567 0.09785848\n",
      " 0.11068253 0.11769568 0.11211021 0.11529117 0.10958046 0.10434565\n",
      " 0.1092799  0.11458986 0.11559173 0.12275517 0.12062617 0.12663745\n",
      " 0.13134627 0.12771446 0.13046963 0.13377583 0.12884158 0.12726362\n",
      " 0.13507827 0.13906074 0.14542267 0.14860363 0.1472511  0.14256731\n",
      " 0.14482154 0.13823419 0.13515341 0.13340013 0.14707577 0.14619912\n",
      " 0.14624922 0.14935504 0.15226049 0.14980589 0.14572323 0.14649969\n",
      " 0.14259236 0.14256731 0.15421415 0.15739512 0.15716969 0.15453976\n",
      " 0.15180964 0.14765185 0.16713838 0.16696306 0.16262993 0.16710081\n",
      " 0.16758923 0.16463369 0.16338134 0.16338134 0.16493425 0.17084534\n",
      " 0.17112085 0.16871634 0.16210394 0.16280526 0.16568566 0.17179712\n",
      " 0.1764809  0.17635567 0.183469   0.18562304 0.18219161 0.18126487\n",
      " 0.17778334 0.18467126 0.18564809 0.19273638 0.19153413 0.19313713\n",
      " 0.19829681 0.19556669 0.19579211 0.19316218 0.20077646 0.18740964\n",
      " 0.1882472  0.18846902 0.18811597 0.18728583 0.1860881  0.18462074\n",
      " 0.18296118 0.18116593 0.17927384 0.17731078 0.1752937  0.17323449\n",
      " 0.17114227 0.16902462 0.16688877 0.16474196]\n"
     ]
    },
    {
     "name": "stdout",
     "output_type": "stream",
     "text": [
      "17 day output [[0.1625913]]\n",
      "18 day input [0.09986224 0.10289292 0.10161553 0.09635567 0.09785848 0.11068253\n",
      " 0.11769568 0.11211021 0.11529117 0.10958046 0.10434565 0.1092799\n",
      " 0.11458986 0.11559173 0.12275517 0.12062617 0.12663745 0.13134627\n",
      " 0.12771446 0.13046963 0.13377583 0.12884158 0.12726362 0.13507827\n",
      " 0.13906074 0.14542267 0.14860363 0.1472511  0.14256731 0.14482154\n",
      " 0.13823419 0.13515341 0.13340013 0.14707577 0.14619912 0.14624922\n",
      " 0.14935504 0.15226049 0.14980589 0.14572323 0.14649969 0.14259236\n",
      " 0.14256731 0.15421415 0.15739512 0.15716969 0.15453976 0.15180964\n",
      " 0.14765185 0.16713838 0.16696306 0.16262993 0.16710081 0.16758923\n",
      " 0.16463369 0.16338134 0.16338134 0.16493425 0.17084534 0.17112085\n",
      " 0.16871634 0.16210394 0.16280526 0.16568566 0.17179712 0.1764809\n",
      " 0.17635567 0.183469   0.18562304 0.18219161 0.18126487 0.17778334\n",
      " 0.18467126 0.18564809 0.19273638 0.19153413 0.19313713 0.19829681\n",
      " 0.19556669 0.19579211 0.19316218 0.20077646 0.18740964 0.1882472\n",
      " 0.18846902 0.18811597 0.18728583 0.1860881  0.18462074 0.18296118\n",
      " 0.18116593 0.17927384 0.17731078 0.1752937  0.17323449 0.17114227\n",
      " 0.16902462 0.16688877 0.16474196 0.16259129]\n",
      "18 day output [[0.16044392]]\n",
      "19 day input [0.10289292 0.10161553 0.09635567 0.09785848 0.11068253 0.11769568\n",
      " 0.11211021 0.11529117 0.10958046 0.10434565 0.1092799  0.11458986\n",
      " 0.11559173 0.12275517 0.12062617 0.12663745 0.13134627 0.12771446\n",
      " 0.13046963 0.13377583 0.12884158 0.12726362 0.13507827 0.13906074\n",
      " 0.14542267 0.14860363 0.1472511  0.14256731 0.14482154 0.13823419\n",
      " 0.13515341 0.13340013 0.14707577 0.14619912 0.14624922 0.14935504\n",
      " 0.15226049 0.14980589 0.14572323 0.14649969 0.14259236 0.14256731\n",
      " 0.15421415 0.15739512 0.15716969 0.15453976 0.15180964 0.14765185\n",
      " 0.16713838 0.16696306 0.16262993 0.16710081 0.16758923 0.16463369\n",
      " 0.16338134 0.16338134 0.16493425 0.17084534 0.17112085 0.16871634\n",
      " 0.16210394 0.16280526 0.16568566 0.17179712 0.1764809  0.17635567\n",
      " 0.183469   0.18562304 0.18219161 0.18126487 0.17778334 0.18467126\n",
      " 0.18564809 0.19273638 0.19153413 0.19313713 0.19829681 0.19556669\n",
      " 0.19579211 0.19316218 0.20077646 0.18740964 0.1882472  0.18846902\n",
      " 0.18811597 0.18728583 0.1860881  0.18462074 0.18296118 0.18116593\n",
      " 0.17927384 0.17731078 0.1752937  0.17323449 0.17114227 0.16902462\n",
      " 0.16688877 0.16474196 0.16259129 0.16044392]\n",
      "19 day output [[0.15830679]]\n",
      "20 day input [0.10161553 0.09635567 0.09785848 0.11068253 0.11769568 0.11211021\n",
      " 0.11529117 0.10958046 0.10434565 0.1092799  0.11458986 0.11559173\n",
      " 0.12275517 0.12062617 0.12663745 0.13134627 0.12771446 0.13046963\n",
      " 0.13377583 0.12884158 0.12726362 0.13507827 0.13906074 0.14542267\n",
      " 0.14860363 0.1472511  0.14256731 0.14482154 0.13823419 0.13515341\n",
      " 0.13340013 0.14707577 0.14619912 0.14624922 0.14935504 0.15226049\n",
      " 0.14980589 0.14572323 0.14649969 0.14259236 0.14256731 0.15421415\n",
      " 0.15739512 0.15716969 0.15453976 0.15180964 0.14765185 0.16713838\n",
      " 0.16696306 0.16262993 0.16710081 0.16758923 0.16463369 0.16338134\n",
      " 0.16338134 0.16493425 0.17084534 0.17112085 0.16871634 0.16210394\n",
      " 0.16280526 0.16568566 0.17179712 0.1764809  0.17635567 0.183469\n",
      " 0.18562304 0.18219161 0.18126487 0.17778334 0.18467126 0.18564809\n",
      " 0.19273638 0.19153413 0.19313713 0.19829681 0.19556669 0.19579211\n",
      " 0.19316218 0.20077646 0.18740964 0.1882472  0.18846902 0.18811597\n",
      " 0.18728583 0.1860881  0.18462074 0.18296118 0.18116593 0.17927384\n",
      " 0.17731078 0.1752937  0.17323449 0.17114227 0.16902462 0.16688877\n",
      " 0.16474196 0.16259129 0.16044392 0.15830679]\n",
      "20 day output [[0.1561866]]\n",
      "21 day input [0.09635567 0.09785848 0.11068253 0.11769568 0.11211021 0.11529117\n",
      " 0.10958046 0.10434565 0.1092799  0.11458986 0.11559173 0.12275517\n",
      " 0.12062617 0.12663745 0.13134627 0.12771446 0.13046963 0.13377583\n",
      " 0.12884158 0.12726362 0.13507827 0.13906074 0.14542267 0.14860363\n",
      " 0.1472511  0.14256731 0.14482154 0.13823419 0.13515341 0.13340013\n",
      " 0.14707577 0.14619912 0.14624922 0.14935504 0.15226049 0.14980589\n",
      " 0.14572323 0.14649969 0.14259236 0.14256731 0.15421415 0.15739512\n",
      " 0.15716969 0.15453976 0.15180964 0.14765185 0.16713838 0.16696306\n",
      " 0.16262993 0.16710081 0.16758923 0.16463369 0.16338134 0.16338134\n",
      " 0.16493425 0.17084534 0.17112085 0.16871634 0.16210394 0.16280526\n",
      " 0.16568566 0.17179712 0.1764809  0.17635567 0.183469   0.18562304\n",
      " 0.18219161 0.18126487 0.17778334 0.18467126 0.18564809 0.19273638\n",
      " 0.19153413 0.19313713 0.19829681 0.19556669 0.19579211 0.19316218\n",
      " 0.20077646 0.18740964 0.1882472  0.18846902 0.18811597 0.18728583\n",
      " 0.1860881  0.18462074 0.18296118 0.18116593 0.17927384 0.17731078\n",
      " 0.1752937  0.17323449 0.17114227 0.16902462 0.16688877 0.16474196\n",
      " 0.16259129 0.16044392 0.15830679 0.1561866 ]\n",
      "21 day output [[0.15408972]]\n",
      "22 day input [0.09785848 0.11068253 0.11769568 0.11211021 0.11529117 0.10958046\n",
      " 0.10434565 0.1092799  0.11458986 0.11559173 0.12275517 0.12062617\n",
      " 0.12663745 0.13134627 0.12771446 0.13046963 0.13377583 0.12884158\n",
      " 0.12726362 0.13507827 0.13906074 0.14542267 0.14860363 0.1472511\n",
      " 0.14256731 0.14482154 0.13823419 0.13515341 0.13340013 0.14707577\n",
      " 0.14619912 0.14624922 0.14935504 0.15226049 0.14980589 0.14572323\n",
      " 0.14649969 0.14259236 0.14256731 0.15421415 0.15739512 0.15716969\n",
      " 0.15453976 0.15180964 0.14765185 0.16713838 0.16696306 0.16262993\n",
      " 0.16710081 0.16758923 0.16463369 0.16338134 0.16338134 0.16493425\n",
      " 0.17084534 0.17112085 0.16871634 0.16210394 0.16280526 0.16568566\n",
      " 0.17179712 0.1764809  0.17635567 0.183469   0.18562304 0.18219161\n",
      " 0.18126487 0.17778334 0.18467126 0.18564809 0.19273638 0.19153413\n",
      " 0.19313713 0.19829681 0.19556669 0.19579211 0.19316218 0.20077646\n",
      " 0.18740964 0.1882472  0.18846902 0.18811597 0.18728583 0.1860881\n",
      " 0.18462074 0.18296118 0.18116593 0.17927384 0.17731078 0.1752937\n",
      " 0.17323449 0.17114227 0.16902462 0.16688877 0.16474196 0.16259129\n",
      " 0.16044392 0.15830679 0.1561866  0.15408972]\n",
      "22 day output [[0.15202205]]\n",
      "23 day input [0.11068253 0.11769568 0.11211021 0.11529117 0.10958046 0.10434565\n",
      " 0.1092799  0.11458986 0.11559173 0.12275517 0.12062617 0.12663745\n",
      " 0.13134627 0.12771446 0.13046963 0.13377583 0.12884158 0.12726362\n",
      " 0.13507827 0.13906074 0.14542267 0.14860363 0.1472511  0.14256731\n",
      " 0.14482154 0.13823419 0.13515341 0.13340013 0.14707577 0.14619912\n",
      " 0.14624922 0.14935504 0.15226049 0.14980589 0.14572323 0.14649969\n",
      " 0.14259236 0.14256731 0.15421415 0.15739512 0.15716969 0.15453976\n",
      " 0.15180964 0.14765185 0.16713838 0.16696306 0.16262993 0.16710081\n",
      " 0.16758923 0.16463369 0.16338134 0.16338134 0.16493425 0.17084534\n",
      " 0.17112085 0.16871634 0.16210394 0.16280526 0.16568566 0.17179712\n",
      " 0.1764809  0.17635567 0.183469   0.18562304 0.18219161 0.18126487\n",
      " 0.17778334 0.18467126 0.18564809 0.19273638 0.19153413 0.19313713\n",
      " 0.19829681 0.19556669 0.19579211 0.19316218 0.20077646 0.18740964\n",
      " 0.1882472  0.18846902 0.18811597 0.18728583 0.1860881  0.18462074\n",
      " 0.18296118 0.18116593 0.17927384 0.17731078 0.1752937  0.17323449\n",
      " 0.17114227 0.16902462 0.16688877 0.16474196 0.16259129 0.16044392\n",
      " 0.15830679 0.1561866  0.15408972 0.15202205]\n",
      "23 day output [[0.14998907]]\n",
      "24 day input [0.11769568 0.11211021 0.11529117 0.10958046 0.10434565 0.1092799\n",
      " 0.11458986 0.11559173 0.12275517 0.12062617 0.12663745 0.13134627\n",
      " 0.12771446 0.13046963 0.13377583 0.12884158 0.12726362 0.13507827\n",
      " 0.13906074 0.14542267 0.14860363 0.1472511  0.14256731 0.14482154\n",
      " 0.13823419 0.13515341 0.13340013 0.14707577 0.14619912 0.14624922\n",
      " 0.14935504 0.15226049 0.14980589 0.14572323 0.14649969 0.14259236\n",
      " 0.14256731 0.15421415 0.15739512 0.15716969 0.15453976 0.15180964\n",
      " 0.14765185 0.16713838 0.16696306 0.16262993 0.16710081 0.16758923\n",
      " 0.16463369 0.16338134 0.16338134 0.16493425 0.17084534 0.17112085\n",
      " 0.16871634 0.16210394 0.16280526 0.16568566 0.17179712 0.1764809\n",
      " 0.17635567 0.183469   0.18562304 0.18219161 0.18126487 0.17778334\n",
      " 0.18467126 0.18564809 0.19273638 0.19153413 0.19313713 0.19829681\n",
      " 0.19556669 0.19579211 0.19316218 0.20077646 0.18740964 0.1882472\n",
      " 0.18846902 0.18811597 0.18728583 0.1860881  0.18462074 0.18296118\n",
      " 0.18116593 0.17927384 0.17731078 0.1752937  0.17323449 0.17114227\n",
      " 0.16902462 0.16688877 0.16474196 0.16259129 0.16044392 0.15830679\n",
      " 0.1561866  0.15408972 0.15202205 0.14998907]\n",
      "24 day output [[0.14799568]]\n",
      "25 day input [0.11211021 0.11529117 0.10958046 0.10434565 0.1092799  0.11458986\n",
      " 0.11559173 0.12275517 0.12062617 0.12663745 0.13134627 0.12771446\n",
      " 0.13046963 0.13377583 0.12884158 0.12726362 0.13507827 0.13906074\n",
      " 0.14542267 0.14860363 0.1472511  0.14256731 0.14482154 0.13823419\n",
      " 0.13515341 0.13340013 0.14707577 0.14619912 0.14624922 0.14935504\n",
      " 0.15226049 0.14980589 0.14572323 0.14649969 0.14259236 0.14256731\n",
      " 0.15421415 0.15739512 0.15716969 0.15453976 0.15180964 0.14765185\n",
      " 0.16713838 0.16696306 0.16262993 0.16710081 0.16758923 0.16463369\n",
      " 0.16338134 0.16338134 0.16493425 0.17084534 0.17112085 0.16871634\n",
      " 0.16210394 0.16280526 0.16568566 0.17179712 0.1764809  0.17635567\n",
      " 0.183469   0.18562304 0.18219161 0.18126487 0.17778334 0.18467126\n",
      " 0.18564809 0.19273638 0.19153413 0.19313713 0.19829681 0.19556669\n",
      " 0.19579211 0.19316218 0.20077646 0.18740964 0.1882472  0.18846902\n",
      " 0.18811597 0.18728583 0.1860881  0.18462074 0.18296118 0.18116593\n",
      " 0.17927384 0.17731078 0.1752937  0.17323449 0.17114227 0.16902462\n",
      " 0.16688877 0.16474196 0.16259129 0.16044392 0.15830679 0.1561866\n",
      " 0.15408972 0.15202205 0.14998907 0.14799568]\n",
      "25 day output [[0.1460464]]\n",
      "26 day input [0.11529117 0.10958046 0.10434565 0.1092799  0.11458986 0.11559173\n",
      " 0.12275517 0.12062617 0.12663745 0.13134627 0.12771446 0.13046963\n",
      " 0.13377583 0.12884158 0.12726362 0.13507827 0.13906074 0.14542267\n",
      " 0.14860363 0.1472511  0.14256731 0.14482154 0.13823419 0.13515341\n",
      " 0.13340013 0.14707577 0.14619912 0.14624922 0.14935504 0.15226049\n",
      " 0.14980589 0.14572323 0.14649969 0.14259236 0.14256731 0.15421415\n",
      " 0.15739512 0.15716969 0.15453976 0.15180964 0.14765185 0.16713838\n",
      " 0.16696306 0.16262993 0.16710081 0.16758923 0.16463369 0.16338134\n",
      " 0.16338134 0.16493425 0.17084534 0.17112085 0.16871634 0.16210394\n",
      " 0.16280526 0.16568566 0.17179712 0.1764809  0.17635567 0.183469\n",
      " 0.18562304 0.18219161 0.18126487 0.17778334 0.18467126 0.18564809\n",
      " 0.19273638 0.19153413 0.19313713 0.19829681 0.19556669 0.19579211\n",
      " 0.19316218 0.20077646 0.18740964 0.1882472  0.18846902 0.18811597\n",
      " 0.18728583 0.1860881  0.18462074 0.18296118 0.18116593 0.17927384\n",
      " 0.17731078 0.1752937  0.17323449 0.17114227 0.16902462 0.16688877\n",
      " 0.16474196 0.16259129 0.16044392 0.15830679 0.1561866  0.15408972\n",
      " 0.15202205 0.14998907 0.14799568 0.1460464 ]\n",
      "26 day output [[0.14414519]]\n",
      "27 day input [0.10958046 0.10434565 0.1092799  0.11458986 0.11559173 0.12275517\n",
      " 0.12062617 0.12663745 0.13134627 0.12771446 0.13046963 0.13377583\n",
      " 0.12884158 0.12726362 0.13507827 0.13906074 0.14542267 0.14860363\n",
      " 0.1472511  0.14256731 0.14482154 0.13823419 0.13515341 0.13340013\n",
      " 0.14707577 0.14619912 0.14624922 0.14935504 0.15226049 0.14980589\n",
      " 0.14572323 0.14649969 0.14259236 0.14256731 0.15421415 0.15739512\n",
      " 0.15716969 0.15453976 0.15180964 0.14765185 0.16713838 0.16696306\n",
      " 0.16262993 0.16710081 0.16758923 0.16463369 0.16338134 0.16338134\n",
      " 0.16493425 0.17084534 0.17112085 0.16871634 0.16210394 0.16280526\n",
      " 0.16568566 0.17179712 0.1764809  0.17635567 0.183469   0.18562304\n",
      " 0.18219161 0.18126487 0.17778334 0.18467126 0.18564809 0.19273638\n",
      " 0.19153413 0.19313713 0.19829681 0.19556669 0.19579211 0.19316218\n",
      " 0.20077646 0.18740964 0.1882472  0.18846902 0.18811597 0.18728583\n",
      " 0.1860881  0.18462074 0.18296118 0.18116593 0.17927384 0.17731078\n",
      " 0.1752937  0.17323449 0.17114227 0.16902462 0.16688877 0.16474196\n",
      " 0.16259129 0.16044392 0.15830679 0.1561866  0.15408972 0.15202205\n",
      " 0.14998907 0.14799568 0.1460464  0.14414519]\n"
     ]
    },
    {
     "name": "stdout",
     "output_type": "stream",
     "text": [
      "27 day output [[0.14229551]]\n",
      "28 day input [0.10434565 0.1092799  0.11458986 0.11559173 0.12275517 0.12062617\n",
      " 0.12663745 0.13134627 0.12771446 0.13046963 0.13377583 0.12884158\n",
      " 0.12726362 0.13507827 0.13906074 0.14542267 0.14860363 0.1472511\n",
      " 0.14256731 0.14482154 0.13823419 0.13515341 0.13340013 0.14707577\n",
      " 0.14619912 0.14624922 0.14935504 0.15226049 0.14980589 0.14572323\n",
      " 0.14649969 0.14259236 0.14256731 0.15421415 0.15739512 0.15716969\n",
      " 0.15453976 0.15180964 0.14765185 0.16713838 0.16696306 0.16262993\n",
      " 0.16710081 0.16758923 0.16463369 0.16338134 0.16338134 0.16493425\n",
      " 0.17084534 0.17112085 0.16871634 0.16210394 0.16280526 0.16568566\n",
      " 0.17179712 0.1764809  0.17635567 0.183469   0.18562304 0.18219161\n",
      " 0.18126487 0.17778334 0.18467126 0.18564809 0.19273638 0.19153413\n",
      " 0.19313713 0.19829681 0.19556669 0.19579211 0.19316218 0.20077646\n",
      " 0.18740964 0.1882472  0.18846902 0.18811597 0.18728583 0.1860881\n",
      " 0.18462074 0.18296118 0.18116593 0.17927384 0.17731078 0.1752937\n",
      " 0.17323449 0.17114227 0.16902462 0.16688877 0.16474196 0.16259129\n",
      " 0.16044392 0.15830679 0.1561866  0.15408972 0.15202205 0.14998907\n",
      " 0.14799568 0.1460464  0.14414519 0.14229551]\n",
      "28 day output [[0.14050046]]\n",
      "29 day input [0.1092799  0.11458986 0.11559173 0.12275517 0.12062617 0.12663745\n",
      " 0.13134627 0.12771446 0.13046963 0.13377583 0.12884158 0.12726362\n",
      " 0.13507827 0.13906074 0.14542267 0.14860363 0.1472511  0.14256731\n",
      " 0.14482154 0.13823419 0.13515341 0.13340013 0.14707577 0.14619912\n",
      " 0.14624922 0.14935504 0.15226049 0.14980589 0.14572323 0.14649969\n",
      " 0.14259236 0.14256731 0.15421415 0.15739512 0.15716969 0.15453976\n",
      " 0.15180964 0.14765185 0.16713838 0.16696306 0.16262993 0.16710081\n",
      " 0.16758923 0.16463369 0.16338134 0.16338134 0.16493425 0.17084534\n",
      " 0.17112085 0.16871634 0.16210394 0.16280526 0.16568566 0.17179712\n",
      " 0.1764809  0.17635567 0.183469   0.18562304 0.18219161 0.18126487\n",
      " 0.17778334 0.18467126 0.18564809 0.19273638 0.19153413 0.19313713\n",
      " 0.19829681 0.19556669 0.19579211 0.19316218 0.20077646 0.18740964\n",
      " 0.1882472  0.18846902 0.18811597 0.18728583 0.1860881  0.18462074\n",
      " 0.18296118 0.18116593 0.17927384 0.17731078 0.1752937  0.17323449\n",
      " 0.17114227 0.16902462 0.16688877 0.16474196 0.16259129 0.16044392\n",
      " 0.15830679 0.1561866  0.15408972 0.15202205 0.14998907 0.14799568\n",
      " 0.1460464  0.14414519 0.14229551 0.14050046]\n",
      "29 day output [[0.13876256]]\n",
      "[[0.1874096393585205], [0.1882472038269043], [0.1884690225124359], [0.18811596930027008], [0.18728582561016083], [0.18608810007572174], [0.18462073802947998], [0.18296118080615997], [0.1811659336090088], [0.1792738437652588], [0.1773107796907425], [0.1752936989068985], [0.1732344925403595], [0.17114226520061493], [0.16902461647987366], [0.1668887734413147], [0.16474196314811707], [0.16259129345417023], [0.16044391691684723], [0.1583067923784256], [0.15618659555912018], [0.15408971905708313], [0.15202204883098602], [0.1499890685081482], [0.14799568057060242], [0.14604640007019043], [0.1441451907157898], [0.14229550957679749], [0.14050045609474182], [0.13876256346702576]]\n"
     ]
    }
   ],
   "source": [
    "lst_output = []\n",
    "n_steps = 100\n",
    "i = 0\n",
    "while(i<30):\n",
    "    if(len(temp_input)>100):\n",
    "        x_input = np.array(temp_input[1:])\n",
    "        print(\"{} day input {}\".format(i,x_input))\n",
    "        x_input = x_input.reshape(1,-1)\n",
    "        x_input = x_input.reshape(1,n_steps,1)\n",
    "        yhat = model.predict(x_input,verbose = 0)\n",
    "        print(\"{} day output {}\".format(i,yhat))\n",
    "        temp_input.extend(yhat[0].tolist())\n",
    "        temp_input = temp_input[1:]\n",
    "        lst_output.extend(yhat.tolist())\n",
    "        i = i+1\n",
    "    else:\n",
    "        x_input = x_input.reshape(1,n_steps,1)\n",
    "        yhat = model.predict(x_input, verbose=0)\n",
    "        print(yhat[0])\n",
    "        temp_input.extend(yhat[0].tolist())\n",
    "        print(len(temp_input))\n",
    "        lst_output.extend(yhat.tolist())\n",
    "        i = i+1\n",
    "        \n",
    "print(lst_output)"
   ]
  },
  {
   "cell_type": "code",
   "execution_count": 46,
   "id": "510b26ae",
   "metadata": {},
   "outputs": [],
   "source": [
    "day_new = np.arange(1,101)\n",
    "day_pred = np.arange(101,131)"
   ]
  },
  {
   "cell_type": "code",
   "execution_count": 47,
   "id": "25385d37",
   "metadata": {},
   "outputs": [
    {
     "data": {
      "text/plain": [
       "1257"
      ]
     },
     "execution_count": 47,
     "metadata": {},
     "output_type": "execute_result"
    }
   ],
   "source": [
    "len(df1)"
   ]
  },
  {
   "cell_type": "code",
   "execution_count": 48,
   "id": "b5c40ab3",
   "metadata": {},
   "outputs": [
    {
     "data": {
      "text/plain": [
       "[<matplotlib.lines.Line2D at 0x24e43663400>]"
      ]
     },
     "execution_count": 48,
     "metadata": {},
     "output_type": "execute_result"
    },
    {
     "data": {
      "image/png": "[encoded data removed]",
      "text/plain": [
       "<Figure size 640x480 with 1 Axes>"
      ]
     },
     "metadata": {},
     "output_type": "display_data"
    }
   ],
   "source": [
    "#1157 came from len(df1)-100   that is 1257-100 = 1157\n",
    "plt.plot(day_new,scaler.inverse_transform(df1[1157:]))\n",
    "plt.plot(day_pred,scaler.inverse_transform(lst_output))"
   ]
  },
  {
   "cell_type": "code",
   "execution_count": 50,
   "id": "250db6cd",
   "metadata": {},
   "outputs": [
    {
     "data": {
      "text/plain": [
       "[<matplotlib.lines.Line2D at 0x24e436770d0>]"
      ]
     },
     "execution_count": 50,
     "metadata": {},
     "output_type": "execute_result"
    },
    {
     "data": {
      "image/png": "[encoded data removed]",
      "text/plain": [
       "<Figure size 640x480 with 1 Axes>"
      ]
     },
     "metadata": {},
     "output_type": "display_data"
    }
   ],
   "source": [
    "#combined data plotted with prediction\n",
    "df3 = df1.tolist()\n",
    "df3.extend(lst_output)\n",
    "plt.plot(df3[1000:])"
   ]
  },
  {
   "cell_type": "code",
   "execution_count": null,
   "id": "5defa7a7",
   "metadata": {},
   "outputs": [],
   "source": []
  }
 ],
 "metadata": {
  "kernelspec": {
   "display_name": "Python 3 (ipykernel)",
   "language": "python",
   "name": "python3"
  },
  "language_info": {
   "codemirror_mode": {
    "name": "ipython",
    "version": 3
   },
   "file_extension": ".py",
   "mimetype": "text/x-python",
   "name": "python",
   "nbconvert_exporter": "python",
   "pygments_lexer": "ipython3",
   "version": "3.10.9"
  }
 },
 "nbformat": 4,
 "nbformat_minor": 5
}
